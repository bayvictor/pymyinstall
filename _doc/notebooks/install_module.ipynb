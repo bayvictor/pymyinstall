{
 "metadata": {
  "name": "",
  "signature": "sha256:fd608785cb10e30cd7b0d4424eced6f785c003f96e7e72f3bc9a58ea9c4f704e"
 },
 "nbformat": 3,
 "nbformat_minor": 0,
 "worksheets": [
  {
   "cells": [
    {
     "cell_type": "heading",
     "level": 1,
     "metadata": {},
     "source": [
      "Three ways to install a module"
     ]
    },
    {
     "cell_type": "markdown",
     "metadata": {},
     "source": [
      "The module [pymysintall](http://www.xavierdupre.fr/app/pymyinstall/helpsphinx/) proposes an easy to install module mostly on Windows as it is already quite easy to do it on Linux/Mac through [pip](http://pip.readthedocs.org/en/latest/). There are three ways to install a module and they should be tried in that way:\n",
      "\n",
      "* pip\n",
      "* a setup on Windows (only on Windows)\n",
      "* source (usually from [github](https://github.com/))\n",
      "    \n",
      "[pip](http://pip.readthedocs.org/en/latest/) is great because it deals with dependencies for you. It takes the modules from [PyPI](https://pypi.python.org/pypi). The only drawback happens on Windows when a module includes [Fortran](http://en.wikipedia.org/wiki/Fortran)/[C](http://en.wikipedia.org/wiki/C_%28programming_language%29)/[C++](http://en.wikipedia.org/wiki/C%2B%2B) files which must be compiled. As opposed to Linux or Mac with [gcc](https://gcc.gnu.org/), there is not an official compiler to handle every package and it has to be installed first. That's why it is recommended to install already compiled python extensions. Not every module provides a compiled version but there exists two main ways to get them:\n",
      "\n",
      "* [Unofficial Windows Binaries for Python Extension Packages](http://www.lfd.uci.edu/~gohlke/pythonlibs/)\n",
      "* [Anaconda](http://continuum.io/)\n",
      "\n",
      "[pymysintall](http://www.xavierdupre.fr/app/pymyinstall/helpsphinx/) takes the setup from the first source. The following snippets of code gives an example for each described way to install a module. The setup way only works on Windows.\n",
      "\n",
      "**pip**\n",
      "\n",
      "Let's try with the following module: [numbers_extractor](https://pypi.python.org/pypi/numbers_extractor)."
     ]
    },
    {
     "cell_type": "code",
     "collapsed": false,
     "input": [
      "from pymyinstall import ModuleInstall\n",
      "ModuleInstall(\"numbers_extractor\", \"pip\").install()"
     ],
     "language": "python",
     "metadata": {},
     "outputs": [
      {
       "output_type": "stream",
       "stream": "stdout",
       "text": [
        "installation of  numbers_extractor:pip:import numbers_extractor\n"
       ]
      },
      {
       "metadata": {},
       "output_type": "pyout",
       "prompt_number": 5,
       "text": [
        "True"
       ]
      }
     ],
     "prompt_number": 5
    },
    {
     "cell_type": "markdown",
     "metadata": {},
     "source": [
      "The function checks first if the module was already installed. That explains why a second run does not print anything."
     ]
    },
    {
     "cell_type": "code",
     "collapsed": false,
     "input": [
      "ModuleInstall(\"numbers_extractor\", \"pip\").install()"
     ],
     "language": "python",
     "metadata": {},
     "outputs": [
      {
       "metadata": {},
       "output_type": "pyout",
       "prompt_number": 8,
       "text": [
        "True"
       ]
      }
     ],
     "prompt_number": 8
    },
    {
     "cell_type": "markdown",
     "metadata": {},
     "source": [
      "**exe**\n",
      "\n",
      "We try with the module [snappy](https://github.com/andrix/python-snappy)."
     ]
    },
    {
     "cell_type": "code",
     "collapsed": false,
     "input": [
      "ModuleInstall(\"python-snappy\", \"exe\", mname=\"snappy\").install()"
     ],
     "language": "python",
     "metadata": {},
     "outputs": [
      {
       "output_type": "stream",
       "stream": "stdout",
       "text": [
        "installation of  python-snappy:exe:import snappy\n",
        "downloading"
       ]
      },
      {
       "output_type": "stream",
       "stream": "stdout",
       "text": [
        " python-snappy-0.5.win32-py3.4.exe\n",
        "writing"
       ]
      },
      {
       "output_type": "stream",
       "stream": "stdout",
       "text": [
        " python-snappy-0.5.win32-py3.4.exe\n",
        "executing"
       ]
      },
      {
       "output_type": "stream",
       "stream": "stdout",
       "text": [
        " python-snappy-0.5.win32-py3.4.exe\n"
       ]
      },
      {
       "metadata": {},
       "output_type": "pyout",
       "prompt_number": 9,
       "text": [
        "True"
       ]
      }
     ],
     "prompt_number": 9
    },
    {
     "cell_type": "markdown",
     "metadata": {},
     "source": [
      "Here again a second call does not do anything. ``python-snappy`` is the prefix of the setup, ``snappy`` is its name when we need to import it: ``import snappy``."
     ]
    },
    {
     "cell_type": "code",
     "collapsed": false,
     "input": [
      "ModuleInstall(\"python-snappy\", \"exe\", mname=\"snappy\").install()"
     ],
     "language": "python",
     "metadata": {},
     "outputs": [
      {
       "metadata": {},
       "output_type": "pyout",
       "prompt_number": 11,
       "text": [
        "True"
       ]
      }
     ],
     "prompt_number": 11
    },
    {
     "cell_type": "markdown",
     "metadata": {},
     "source": [
      "This way only works in Windows but not on ~~Linux~~ or ~~Mac~~.\n",
      "\n",
      "**github**\n",
      "\n",
      "[github](https://github.com/) holds the source of most of the open source project. This one is no exception. You can check this page for example [Top 400 Python Projects in Github](http://pythonhackers.com/open-source/). We try here with the module `bottle <https://github.com/defnull/bottle>`_."
     ]
    },
    {
     "cell_type": "code",
     "collapsed": false,
     "input": [
      "ModuleInstall(\"bottle\", \"github\", \"defnull\").install()"
     ],
     "language": "python",
     "metadata": {},
     "outputs": [
      {
       "output_type": "stream",
       "stream": "stdout",
       "text": [
        "installation of  bottle:github:import bottle\n",
        "downloading https://github.com/defnull/bottle/archive/master.zip\n",
        "unzipping "
       ]
      },
      {
       "output_type": "stream",
       "stream": "stdout",
       "text": [
        " .\\bottle.zip\n",
        "    creating folder  .\\bottle-master\n",
        "    unzipped  bottle-master/.coveragerc  to  .\\bottle-master/.coveragerc\n",
        "    unzipped  bottle-master/.gitignore  to  .\\bottle-master/.gitignore\n",
        "    unzipped "
       ]
      },
      {
       "output_type": "stream",
       "stream": "stdout",
       "text": [
        " bottle-master/.travis.yml  to  .\\bottle-master/.travis.yml\n",
        "    unzipped  bottle-master/AUTHORS  to  .\\bottle-master/AUTHORS\n",
        "    unzipped  bottle-master/LICENSE  to  .\\bottle-master/LICENSE\n",
        "    unzipped  bottle-master/MANIFEST.in  to  .\\bottle-master/MANIFEST.in\n",
        "    unzipped "
       ]
      },
      {
       "output_type": "stream",
       "stream": "stdout",
       "text": [
        " bottle-master/Makefile  to  .\\bottle-master/Makefile\n",
        "    unzipped  bottle-master/README.rst  to  .\\bottle-master/README.rst\n",
        "    unzipped  bottle-master/bottle.py  to  .\\bottle-master/bottle.py\n",
        "    creating folder  .\\bottle-master/docs\n",
        "    creating folder  .\\bottle-master/docs/_locale\n",
        "    unzipped  bottle-master/docs/_locale/README.txt  to  .\\bottle-master/docs/_locale/README.txt\n",
        "    unzipped  bottle-master/docs/_locale/update.sh  to  .\\bottle-master/docs/_locale/update.sh\n",
        "    creating folder  .\\bottle-master/docs/_locale/zh_CN\n",
        "    unzipped "
       ]
      },
      {
       "output_type": "stream",
       "stream": "stdout",
       "text": [
        " bottle-master/docs/_locale/zh_CN/api.po  to  .\\bottle-master/docs/_locale/zh_CN/api.po\n",
        "    unzipped  bottle-master/docs/_locale/zh_CN/async.po  to  .\\bottle-master/docs/_locale/zh_CN/async.po\n",
        "    unzipped  bottle-master/docs/_locale/zh_CN/changelog.po  to  .\\bottle-master/docs/_locale/zh_CN/changelog.po\n",
        "    unzipped  bottle-master/docs/_locale/zh_CN/configuration.po  to  .\\bottle-master/docs/_locale/zh_CN/configuration.po\n",
        "    unzipped  bottle-master/docs/_locale/zh_CN/contact.po  to  .\\bottle-master/docs/_locale/zh_CN/contact.po\n",
        "    unzipped  bottle-master/docs/_locale/zh_CN/deployment.po  to  .\\bottle-master/docs/_locale/zh_CN/deployment.po\n",
        "    unzipped  bottle-master/docs/_locale/zh_CN/development.po  to  .\\bottle-master/docs/_locale/zh_CN/development.po\n",
        "    unzipped "
       ]
      },
      {
       "output_type": "stream",
       "stream": "stdout",
       "text": [
        " bottle-master/docs/_locale/zh_CN/faq.po  to  .\\bottle-master/docs/_locale/zh_CN/faq.po\n",
        "    unzipped  bottle-master/docs/_locale/zh_CN/index.po  to  .\\bottle-master/docs/_locale/zh_CN/index.po\n",
        "    unzipped  bottle-master/docs/_locale/zh_CN/plugindev.po  to  .\\bottle-master/docs/_locale/zh_CN/plugindev.po\n",
        "    unzipped  bottle-master/docs/_locale/zh_CN/plugins.po  to  .\\bottle-master/docs/_locale/zh_CN/plugins.po\n",
        "    unzipped  bottle-master/docs/_locale/zh_CN/recipes.po  to  .\\bottle-master/docs/_locale/zh_CN/recipes.po\n",
        "    unzipped  bottle-master/docs/_locale/zh_CN/routing.po  to  .\\bottle-master/docs/_locale/zh_CN/routing.po\n",
        "    unzipped  bottle-master/docs/_locale/zh_CN/stpl.po  to  .\\bottle-master/docs/_locale/zh_CN/stpl.po\n",
        "    unzipped "
       ]
      },
      {
       "output_type": "stream",
       "stream": "stdout",
       "text": [
        " bottle-master/docs/_locale/zh_CN/tutorial.po  to  .\\bottle-master/docs/_locale/zh_CN/tutorial.po\n",
        "    unzipped  bottle-master/docs/_locale/zh_CN/tutorial_app.po  to  .\\bottle-master/docs/_locale/zh_CN/tutorial_app.po\n",
        "    unzipped  bottle-master/docs/api.rst  to  .\\bottle-master/docs/api.rst\n",
        "    unzipped  bottle-master/docs/async.rst  to  .\\bottle-master/docs/async.rst\n",
        "    unzipped  bottle-master/docs/changelog.rst  to  .\\bottle-master/docs/changelog.rst\n",
        "    unzipped  bottle-master/docs/conf.py  to  .\\bottle-master/docs/conf.py\n",
        "    unzipped "
       ]
      },
      {
       "output_type": "stream",
       "stream": "stdout",
       "text": [
        " bottle-master/docs/configuration.rst  to  .\\bottle-master/docs/configuration.rst\n",
        "    unzipped  bottle-master/docs/contact.rst  to  .\\bottle-master/docs/contact.rst\n",
        "    unzipped  bottle-master/docs/deployment.rst  to  .\\bottle-master/docs/deployment.rst\n",
        "    unzipped  bottle-master/docs/development.rst  to  .\\bottle-master/docs/development.rst\n",
        "    unzipped  bottle-master/docs/faq.rst  to  .\\bottle-master/docs/faq.rst\n",
        "    unzipped "
       ]
      },
      {
       "output_type": "stream",
       "stream": "stdout",
       "text": [
        " bottle-master/docs/index.rst  to  .\\bottle-master/docs/index.rst\n",
        "    unzipped  bottle-master/docs/plugindev.rst  to  .\\bottle-master/docs/plugindev.rst\n",
        "    creating folder  .\\bottle-master/docs/plugins\n",
        "    unzipped  bottle-master/docs/plugins/index.rst  to  .\\bottle-master/docs/plugins/index.rst\n",
        "    unzipped  bottle-master/docs/recipes.rst  to  .\\bottle-master/docs/recipes.rst\n",
        "    unzipped "
       ]
      },
      {
       "output_type": "stream",
       "stream": "stdout",
       "text": [
        " bottle-master/docs/routing.rst  to  .\\bottle-master/docs/routing.rst\n",
        "    unzipped  bottle-master/docs/stpl.rst  to  .\\bottle-master/docs/stpl.rst\n",
        "    unzipped "
       ]
      },
      {
       "output_type": "stream",
       "stream": "stdout",
       "text": [
        " bottle-master/docs/tutorial.rst  to  .\\bottle-master/docs/tutorial.rst\n",
        "    unzipped  bottle-master/docs/tutorial_app.rst  to  .\\bottle-master/docs/tutorial_app.rst\n",
        "    unzipped  bottle-master/setup.cfg  to  .\\bottle-master/setup.cfg\n",
        "    unzipped  bottle-master/setup.py  to  .\\bottle-master/setup.py\n",
        "    creating folder  .\\bottle-master/test\n",
        "    unzipped  bottle-master/test/.coveragerc  to  .\\bottle-master/test/.coveragerc\n",
        "    unzipped  bottle-master/test/build_python.sh  to  .\\bottle-master/test/build_python.sh\n",
        "    unzipped  bottle-master/test/servertest.py  to  .\\bottle-master/test/servertest.py\n",
        "    unzipped "
       ]
      },
      {
       "output_type": "stream",
       "stream": "stdout",
       "text": [
        " bottle-master/test/test_auth.py  to  .\\bottle-master/test/test_auth.py\n",
        "    unzipped  bottle-master/test/test_config.py  to  .\\bottle-master/test/test_config.py\n",
        "    unzipped  bottle-master/test/test_configdict.py  to  .\\bottle-master/test/test_configdict.py\n",
        "    unzipped  bottle-master/test/test_contextlocals.py  to  .\\bottle-master/test/test_contextlocals.py\n",
        "    unzipped  bottle-master/test/test_environ.py  to  .\\bottle-master/test/test_environ.py\n",
        "    unzipped  bottle-master/test/test_fileupload.py  to  .\\bottle-master/test/test_fileupload.py\n",
        "    unzipped "
       ]
      },
      {
       "output_type": "stream",
       "stream": "stdout",
       "text": [
        " bottle-master/test/test_formsdict.py  to  .\\bottle-master/test/test_formsdict.py\n",
        "    unzipped  bottle-master/test/test_importhook.py  to  .\\bottle-master/test/test_importhook.py\n",
        "    unzipped  bottle-master/test/test_jinja2.py  to  .\\bottle-master/test/test_jinja2.py\n",
        "    unzipped  bottle-master/test/test_mako.py  to  .\\bottle-master/test/test_mako.py\n",
        "    unzipped  bottle-master/test/test_mdict.py  to  .\\bottle-master/test/test_mdict.py\n",
        "    unzipped  bottle-master/test/test_mount.py  to  .\\bottle-master/test/test_mount.py\n",
        "    unzipped  bottle-master/test/test_outputfilter.py  to  .\\bottle-master/test/test_outputfilter.py\n",
        "    unzipped "
       ]
      },
      {
       "output_type": "stream",
       "stream": "stdout",
       "text": [
        " bottle-master/test/test_plugins.py  to  .\\bottle-master/test/test_plugins.py\n",
        "    unzipped  bottle-master/test/test_resources.py  to  .\\bottle-master/test/test_resources.py\n",
        "    unzipped  bottle-master/test/test_route.py  to  .\\bottle-master/test/test_route.py\n",
        "    unzipped  bottle-master/test/test_router.py  to  .\\bottle-master/test/test_router.py\n",
        "    unzipped  bottle-master/test/test_securecookies.py  to  .\\bottle-master/test/test_securecookies.py\n",
        "    unzipped  bottle-master/test/test_sendfile.py  to  .\\bottle-master/test/test_sendfile.py\n",
        "    unzipped  bottle-master/test/test_server.py  to  .\\bottle-master/test/test_server.py\n",
        "    unzipped "
       ]
      },
      {
       "output_type": "stream",
       "stream": "stdout",
       "text": [
        " bottle-master/test/test_stpl.py  to  .\\bottle-master/test/test_stpl.py\n",
        "    unzipped  bottle-master/test/test_wsgi.py  to  .\\bottle-master/test/test_wsgi.py\n",
        "    unzipped  bottle-master/test/testall.py  to  .\\bottle-master/test/testall.py\n",
        "    unzipped  bottle-master/test/tools.py  to  .\\bottle-master/test/tools.py\n",
        "    unzipped  bottle-master/test/travis-requirements.txt  to  .\\bottle-master/test/travis-requirements.txt\n",
        "    unzipped  bottle-master/test/travis_setup.sh  to  .\\bottle-master/test/travis_setup.sh\n",
        "    creating folder  .\\bottle-master/test/views\n",
        "    unzipped "
       ]
      },
      {
       "output_type": "stream",
       "stream": "stdout",
       "text": [
        " bottle-master/test/views/jinja2_base.tpl  to  .\\bottle-master/test/views/jinja2_base.tpl\n",
        "    unzipped  bottle-master/test/views/jinja2_inherit.tpl  to  .\\bottle-master/test/views/jinja2_inherit.tpl\n",
        "    unzipped  bottle-master/test/views/jinja2_simple.tpl  to  .\\bottle-master/test/views/jinja2_simple.tpl\n",
        "    unzipped  bottle-master/test/views/mako_base.tpl  to  .\\bottle-master/test/views/mako_base.tpl\n",
        "    unzipped  bottle-master/test/views/mako_inherit.tpl  to  .\\bottle-master/test/views/mako_inherit.tpl\n",
        "    unzipped  bottle-master/test/views/mako_simple.tpl  to  .\\bottle-master/test/views/mako_simple.tpl\n",
        "    unzipped  bottle-master/test/views/stpl_include.tpl  to  .\\bottle-master/test/views/stpl_include.tpl\n",
        "    unzipped  bottle-master/test/views/stpl_no_vars.tpl  to  .\\bottle-master/test/views/stpl_no_vars.tpl\n",
        "    unzipped  bottle-master/test/views/stpl_simple.tpl  to  .\\bottle-master/test/views/stpl_simple.tpl\n",
        "    unzipped "
       ]
      },
      {
       "output_type": "stream",
       "stream": "stdout",
       "text": [
        " bottle-master/test/views/stpl_t2base.tpl  to  .\\bottle-master/test/views/stpl_t2base.tpl\n",
        "    unzipped  bottle-master/test/views/stpl_t2inc.tpl  to  .\\bottle-master/test/views/stpl_t2inc.tpl\n",
        "    unzipped  bottle-master/test/views/stpl_t2main.tpl  to  .\\bottle-master/test/views/stpl_t2main.tpl\n",
        "    unzipped  bottle-master/test/views/stpl_unicode.tpl  to  .\\bottle-master/test/views/stpl_unicode.tpl\n",
        "    unzipped  bottle-master/tox.ini  to  .\\bottle-master/tox.ini\n",
        "install  C\n",
        "warning: Successfully installed not found"
       ]
      },
      {
       "output_type": "stream",
       "stream": "stdout",
       "text": [
        "\n"
       ]
      },
      {
       "metadata": {},
       "output_type": "pyout",
       "prompt_number": 12,
       "text": [
        "True"
       ]
      }
     ],
     "prompt_number": 12
    },
    {
     "cell_type": "markdown",
     "metadata": {},
     "source": [
      "The function downloads the source from GitHub and install them using the instruction ``python setup.py install``. The function still has to be improved because analyzing the output is always obvious if there are dependencies or error messages. We check again a second call does not install the module again."
     ]
    },
    {
     "cell_type": "code",
     "collapsed": false,
     "input": [
      "ModuleInstall(\"bottle\", \"github\", \"defnull\").install()"
     ],
     "language": "python",
     "metadata": {},
     "outputs": [
      {
       "output_type": "stream",
       "stream": "stdout",
       "text": [
        "installation of  bottle:github:import bottle\n",
        "unzipping  .\\bottle.zip\n",
        "install  C\n",
        "warning: Successfully installed not found"
       ]
      },
      {
       "output_type": "stream",
       "stream": "stdout",
       "text": [
        "\n"
       ]
      },
      {
       "metadata": {},
       "output_type": "pyout",
       "prompt_number": 15,
       "text": [
        "True"
       ]
      }
     ],
     "prompt_number": 15
    },
    {
     "cell_type": "markdown",
     "metadata": {},
     "source": [
      "We finally check the module can be imported. It sometimes requires the kernel to restarted."
     ]
    },
    {
     "cell_type": "code",
     "collapsed": false,
     "input": [
      "import bottle"
     ],
     "language": "python",
     "metadata": {},
     "outputs": [],
     "prompt_number": 1
    },
    {
     "cell_type": "markdown",
     "metadata": {},
     "source": [
      "The two last methods download files and create others when some file needs to be uncompressed."
     ]
    },
    {
     "cell_type": "code",
     "collapsed": false,
     "input": [
      "import os\n",
      "os.listdir(\".\")"
     ],
     "language": "python",
     "metadata": {},
     "outputs": [
      {
       "metadata": {},
       "output_type": "pyout",
       "prompt_number": 3,
       "text": [
        "['bottle-master',\n",
        " 'bottle.zip',\n",
        " 'install_module.ipynb',\n",
        " 'python-snappy-0.5.win32-py3.4.exe']"
       ]
      }
     ],
     "prompt_number": 3
    },
    {
     "cell_type": "markdown",
     "metadata": {},
     "source": [
      "**another module?**\n",
      "\n",
      "Try another module below."
     ]
    },
    {
     "cell_type": "code",
     "collapsed": false,
     "input": [],
     "language": "python",
     "metadata": {},
     "outputs": []
    }
   ],
   "metadata": {}
  }
 ]
}